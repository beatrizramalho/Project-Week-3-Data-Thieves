{
 "cells": [
  {
   "cell_type": "markdown",
   "id": "f0df44a7",
   "metadata": {},
   "source": [
    "https://www.kaggle.com/mazenramadan/imdb-most-popular-films-and-series (Kaggle Database)\n",
    "\n",
    "https://www.rottentomatoes.com/top/bestofrt/ (Rotter tomates top 100 movies)"
   ]
  },
  {
   "cell_type": "code",
   "execution_count": null,
   "id": "731ffba1",
   "metadata": {},
   "outputs": [],
   "source": [
    "import pandas as pd\n",
    "import requests\n",
    "from bs4 import BeautifulSoup\n",
    "import re\n",
    "\n",
    "import collections\n",
    "import matplotlib.pyplot as plt\n",
    "import seaborn as sns"
   ]
  },
  {
   "cell_type": "markdown",
   "id": "bb55e20d",
   "metadata": {},
   "source": [
    "# Films Rotten Tomatoes"
   ]
  },
  {
   "cell_type": "code",
   "execution_count": null,
   "id": "85e7f68e",
   "metadata": {},
   "outputs": [],
   "source": [
    "url = \"https://www.rottentomatoes.com/top/bestofrt/\"\n",
    "response = requests.get(url)\n",
    "response"
   ]
  },
  {
   "cell_type": "code",
   "execution_count": null,
   "id": "18eda240",
   "metadata": {},
   "outputs": [],
   "source": [
    "soup = BeautifulSoup(response.content, features = \"lxml\")\n",
    "#print(soup.prettify())"
   ]
  },
  {
   "cell_type": "code",
   "execution_count": null,
   "id": "5066fe02",
   "metadata": {},
   "outputs": [],
   "source": [
    "movies = soup.find_all(\"table\", {\"class\":\"table\"})\n",
    "movies\n",
    "\n",
    "data = []\n",
    "\n",
    "for movie in movies:\n",
    "    for row in movie.findAll('tr')[1:]:\n",
    "        \n",
    "        movie_names = row.findAll(\"a\", {\"class\":\"unstyled articleLink\"})\n",
    "        movie_name = movie_names[0].text.strip().capitalize()\n",
    "        movie_name = movie_name[:len(movie_name) - 7]\n",
    "        movie_name = re.sub('[^A-Za-z0-9 ]+', '', movie_name)\n",
    "        \n",
    "        movie_ratings = row.findAll(\"span\", {\"class\":\"tMeterScore\"})\n",
    "        movie_rating = movie_ratings[0].text\n",
    "        movie_rating = re.sub('[^0-9 ]+', '', movie_rating)\n",
    "        \n",
    "        data.append({\"Film name\": movie_name, \"Film Rating Rotten Tomatoes\" : movie_rating})\n",
    "\n",
    "TopTomatoes = pd.DataFrame(data)\n",
    "TopTomatoes[\"Film Rating Rotten Tomatoes\"] = TopTomatoes[\"Film Rating Rotten Tomatoes\"].apply(pd.to_numeric)\n",
    "TopTomatoes"
   ]
  },
  {
   "cell_type": "code",
   "execution_count": null,
   "id": "98438c97",
   "metadata": {},
   "outputs": [],
   "source": [
    "# Create the top 10 movies from Rotter Tomatoes\n",
    "\n",
    "TopTomatoes = TopTomatoes.sort_values(by=[\"Film Rating Rotten Tomatoes\"], ascending= False)\n",
    "Top10Tomates = TopTomatoes.head(10)\n",
    "Top10Tomates"
   ]
  },
  {
   "cell_type": "markdown",
   "id": "86cc7cc7",
   "metadata": {},
   "source": [
    "# Working on the IMDB data"
   ]
  },
  {
   "cell_type": "code",
   "execution_count": null,
   "id": "7780fc5f",
   "metadata": {},
   "outputs": [],
   "source": [
    "#IMDM datasource\n",
    "imdb = pd.read_csv(\"C:\\\\Users\\\\beatr\\\\Documents\\\\Beatriz\\\\Ironhack\\\\Projects\\\\Final Project - Module 1\\\\Project-Week-3-Data-Thieves\\\\your-project\\\\imdb.csv\")\n",
    "imdb"
   ]
  },
  {
   "cell_type": "code",
   "execution_count": null,
   "id": "0c59e738",
   "metadata": {},
   "outputs": [],
   "source": [
    "#IMDB data cleaning\n",
    "imdb = imdb.drop_duplicates(subset=['Name'])\n",
    "imdb = imdb[imdb[\"Type\"] == \"Film\"]\n",
    "imdb = imdb[imdb[\"Rate\"] != \"No Rate\"]\n",
    "imdb"
   ]
  },
  {
   "cell_type": "code",
   "execution_count": null,
   "id": "6cd69137",
   "metadata": {},
   "outputs": [],
   "source": [
    "#imdb.info() - Verify that both columns Values and Rates were objects\n",
    "\n",
    "imdb.Votes = imdb.Votes.str.replace(\",\", \"\") #to replace the comma in the Votes column\n",
    "\n",
    "imdb[[\"Votes\", \"Rate\"]] = imdb[[\"Votes\", \"Rate\"]].apply(pd.to_numeric) #change the type of the both columns\n",
    "imdb"
   ]
  },
  {
   "cell_type": "code",
   "execution_count": null,
   "id": "787d517d",
   "metadata": {},
   "outputs": [],
   "source": [
    "imdb = imdb[imdb[\"Votes\"] >= 25000]\n",
    "imdb"
   ]
  },
  {
   "cell_type": "code",
   "execution_count": null,
   "id": "5cbf1472",
   "metadata": {},
   "outputs": [],
   "source": [
    "imdb[\"Name\"] = imdb[\"Name\"].str.replace(r'[^A-Za-z0-9 ]+', \"\")\n",
    "imdb"
   ]
  },
  {
   "cell_type": "code",
   "execution_count": null,
   "id": "16b97ec3",
   "metadata": {},
   "outputs": [],
   "source": [
    "#Create a new data set with only the necessary columns\n",
    "\n",
    "new_imdb = imdb[[\"Name\", \"Rate\", \"Genre\"]]\n",
    "new_imdb"
   ]
  },
  {
   "cell_type": "code",
   "execution_count": null,
   "id": "84c9b984",
   "metadata": {},
   "outputs": [],
   "source": [
    "#Replace those movies write wrong names\n",
    "new_imdb[\"Name\"] = new_imdb[\"Name\"].replace(to_replace =\"Gisaengchung\", value =\"Parasite Gisaengchung\")\n",
    "new_imdb[\"Name\"] = new_imdb[\"Name\"].replace(to_replace =\"Shichinin no samurai\", value =\"Seven Samurai Shichinin no Samurai\")\n",
    "new_imdb[\"Name\"] = new_imdb[\"Name\"].replace(to_replace =\"Sunset Blvd\", value =\"Sunset Boulevard\")\n",
    "new_imdb\n",
    "\n",
    "#new_imdb.to_excel(\"new_imdb.xlsx\")"
   ]
  },
  {
   "cell_type": "code",
   "execution_count": null,
   "id": "43114104",
   "metadata": {},
   "outputs": [],
   "source": [
    "new_imdb = new_imdb.sort_values(by=[\"Rate\",'Name'], ascending=False)\n",
    "new_imdb['Name'] = new_imdb['Name'].str.capitalize()"
   ]
  },
  {
   "cell_type": "code",
   "execution_count": null,
   "id": "ea8926af",
   "metadata": {},
   "outputs": [],
   "source": [
    "#Creating our own IMDB top 100 \n",
    "\n",
    "TopImdb = new_imdb.head(100)\n",
    "\n",
    "TopImdb = TopImdb.rename(columns={\"Name\": \"Film name\", \"Rate\": \"Film Rating IMDB\", \"Genre\": \"Genre\"})\n",
    "TopImdb\n",
    "\n",
    "#TopImdb.to_excel(\"TopImdb.xlsx\")  "
   ]
  },
  {
   "cell_type": "code",
   "execution_count": null,
   "id": "83263f0f",
   "metadata": {},
   "outputs": [],
   "source": [
    "#Inner Join:\n",
    "Bothrakings = pd.merge(TopImdb, TopTomatoes, left_on='Film name', right_on='Film name')\n",
    "Bothrakings.head(100)\n",
    "\n",
    "#The critics and the viewers have different movies tastes (we found only 15 movies matching both)"
   ]
  },
  {
   "cell_type": "code",
   "execution_count": null,
   "id": "68368402",
   "metadata": {},
   "outputs": [],
   "source": [
    "#Creating our own IMDB top 10\n",
    "\n",
    "Top10Imdb = new_imdb.head(10)\n",
    "Top10Imdb"
   ]
  },
  {
   "cell_type": "markdown",
   "id": "5971e517",
   "metadata": {},
   "source": [
    "# Top Genres of IMDB"
   ]
  },
  {
   "cell_type": "code",
   "execution_count": null,
   "id": "dd9e1ced",
   "metadata": {},
   "outputs": [],
   "source": [
    "#TopImdb[\"Genre\"] = TopImdb[\"Genre\"].apply(lambda x: list(x.split(\",\")))\n",
    "TopImdb[\"Genre\"]\n",
    "\n",
    "list_genres_imdb =[] \n",
    "\n",
    "for item in TopImdb[\"Genre\"]:\n",
    "    list_genres_imdb.append(item)\n",
    "\n",
    "list_new = []\n",
    "\n",
    "for element in list_genres_imdb:\n",
    "    #print(type(element))\n",
    "    element = element.split(\",\")\n",
    "    #print(element)\n",
    "    list_new.append(element)\n",
    "    \n",
    "list_newnew = [word.upper().strip() for element in list_new for word in element]\n",
    "    \n",
    "print(list_newnew)"
   ]
  },
  {
   "cell_type": "code",
   "execution_count": null,
   "id": "8549751b",
   "metadata": {},
   "outputs": [],
   "source": [
    "# initialize a null list\n",
    "unique_list = []\n",
    "     \n",
    "# traverse for all elements\n",
    "for x in list_newnew:\n",
    "    # check if exists in unique_list or not\n",
    "    if x not in unique_list:\n",
    "        unique_list.append(x)\n",
    "    \n",
    "print(unique_list)"
   ]
  },
  {
   "cell_type": "code",
   "execution_count": null,
   "id": "62e7f87b",
   "metadata": {},
   "outputs": [],
   "source": [
    "occurrences = collections.Counter(list_newnew)\n",
    "occurrences"
   ]
  },
  {
   "cell_type": "code",
   "execution_count": null,
   "id": "eb8c63b5",
   "metadata": {},
   "outputs": [],
   "source": [
    "df_genres_imdb = pd.DataFrame.from_dict(occurrences, orient='index').reset_index()\n",
    "df_genres_imdb = df_genres_imdb.rename(columns={'index':'Genres IMDB', 0:'count'})\n",
    "df_genres_imdb = df_genres_imdb.sort_values(by=[\"count\"], ascending=False)\n",
    "df_genres_imdb"
   ]
  },
  {
   "cell_type": "code",
   "execution_count": null,
   "id": "1c3871e2",
   "metadata": {},
   "outputs": [],
   "source": [
    "df_genres_imdb['Genres IMDB'] = df_genres_imdb['Genres IMDB'].str.capitalize()\n",
    "df_genres_imdb"
   ]
  },
  {
   "cell_type": "code",
   "execution_count": null,
   "id": "7abb69bc",
   "metadata": {},
   "outputs": [],
   "source": [
    "top_genres_imdb = df_genres_imdb.head(3)\n",
    "top_genres_imdb"
   ]
  },
  {
   "cell_type": "code",
   "execution_count": null,
   "id": "c340b00f",
   "metadata": {},
   "outputs": [],
   "source": [
    "top_genres_imdb = top_genres_imdb.set_index('Genres IMDB')\n",
    "top_genres_imdb"
   ]
  },
  {
   "cell_type": "code",
   "execution_count": null,
   "id": "272e4b79",
   "metadata": {},
   "outputs": [],
   "source": [
    "top_genres_imdb.plot(kind='bar')\n",
    "plt.title('Top 3 genres on IMDB', color = 'red', size = '20')\n",
    "plt.xticks(rotation=0)\n",
    "plt.ylabel('Popularity')\n",
    "plt.show()"
   ]
  },
  {
   "cell_type": "markdown",
   "id": "ed723fdc",
   "metadata": {},
   "source": [
    "# Top Genres Rotten Tomatoes"
   ]
  },
  {
   "cell_type": "code",
   "execution_count": 1,
   "id": "740914e5",
   "metadata": {},
   "outputs": [
    {
     "ename": "NameError",
     "evalue": "name 'movies' is not defined",
     "output_type": "error",
     "traceback": [
      "\u001b[1;31m---------------------------------------------------------------------------\u001b[0m",
      "\u001b[1;31mNameError\u001b[0m                                 Traceback (most recent call last)",
      "\u001b[1;32m~\\AppData\\Local\\Temp/ipykernel_18532/2537324031.py\u001b[0m in \u001b[0;36m<module>\u001b[1;34m\u001b[0m\n\u001b[0;32m      1\u001b[0m \u001b[1;31m# Extracting link for every movie from rotten tomatoes top 100\u001b[0m\u001b[1;33m\u001b[0m\u001b[1;33m\u001b[0m\u001b[1;33m\u001b[0m\u001b[0m\n\u001b[0;32m      2\u001b[0m \u001b[0mmovie_url_list\u001b[0m \u001b[1;33m=\u001b[0m \u001b[1;33m[\u001b[0m\u001b[1;33m]\u001b[0m\u001b[1;33m\u001b[0m\u001b[1;33m\u001b[0m\u001b[0m\n\u001b[1;32m----> 3\u001b[1;33m \u001b[1;32mfor\u001b[0m \u001b[0mmovie\u001b[0m \u001b[1;32min\u001b[0m \u001b[0mmovies\u001b[0m\u001b[1;33m:\u001b[0m\u001b[1;33m\u001b[0m\u001b[1;33m\u001b[0m\u001b[0m\n\u001b[0m\u001b[0;32m      4\u001b[0m     \u001b[1;32mfor\u001b[0m \u001b[0mrow\u001b[0m \u001b[1;32min\u001b[0m \u001b[0mmovie\u001b[0m\u001b[1;33m.\u001b[0m\u001b[0mfindAll\u001b[0m\u001b[1;33m(\u001b[0m\u001b[1;34m'tr'\u001b[0m\u001b[1;33m)\u001b[0m\u001b[1;33m[\u001b[0m\u001b[1;36m1\u001b[0m\u001b[1;33m:\u001b[0m\u001b[1;33m]\u001b[0m\u001b[1;33m:\u001b[0m\u001b[1;33m\u001b[0m\u001b[1;33m\u001b[0m\u001b[0m\n\u001b[0;32m      5\u001b[0m \u001b[1;33m\u001b[0m\u001b[0m\n",
      "\u001b[1;31mNameError\u001b[0m: name 'movies' is not defined"
     ]
    }
   ],
   "source": [
    "# Extracting link for every movie from rotten tomatoes top 100\n",
    "movie_url_list = []\n",
    "for movie in movies:\n",
    "    for row in movie.findAll('tr')[1:]:\n",
    "        \n",
    "        movie_link = row.a['href']\n",
    "        movie_url = 'https://www.rottentomatoes.com' + row.a['href']\n",
    "        movie_url_list.append(movie_url)\n",
    "movie_url_list"
   ]
  },
  {
   "cell_type": "code",
   "execution_count": null,
   "id": "1b034d20",
   "metadata": {},
   "outputs": [],
   "source": [
    "# Extracting genres of movies from rotten tomatoes top 100\n",
    "rotten_genres = []\n",
    "for link in movie_url_list:\n",
    "    try:\n",
    "        response = requests.get(link)\n",
    "        soup = BeautifulSoup(response.content, features = 'lxml')\n",
    "        # get the genre\n",
    "        genre_link = soup.find_all('div', attrs = {'class': 'meta-value genre'})\n",
    "        genre = genre_link[0].text.strip()\n",
    "        genre = re.sub('[^A-Za-z0-9&,/ ]+', '', genre)\n",
    "        genre = re.sub(' ', '', genre)\n",
    "    \n",
    "        # putting found genres into a list\n",
    "        rotten_genres.append(genre)\n",
    "    except:\n",
    "        print(f'issue with this link - {link}')\n",
    "print(rotten_genres)"
   ]
  },
  {
   "cell_type": "code",
   "execution_count": null,
   "id": "238cc701",
   "metadata": {},
   "outputs": [],
   "source": [
    "# We received list with multiple genres for each movie, trying to clean it better\n",
    "rot_gen = []\n",
    "for item in rotten_genres:\n",
    "    item = item.split(',')\n",
    "    rot_gen.append(item)\n",
    "print(rot_gen)"
   ]
  },
  {
   "cell_type": "code",
   "execution_count": null,
   "id": "2fe8cf4e",
   "metadata": {},
   "outputs": [],
   "source": [
    "r_g = []\n",
    "for string in rot_gen:\n",
    "    for word in string:\n",
    "        word = word.split(',')\n",
    "        #word = word.split('&')\n",
    "        r_g.append(word)\n",
    "print(r_g)"
   ]
  },
  {
   "cell_type": "code",
   "execution_count": null,
   "id": "6e5b34d3",
   "metadata": {},
   "outputs": [],
   "source": [
    "# Finally a list with genres from rotten tomatoes\n",
    "rg = [i for element in r_g for i in element]\n",
    "print(rg)"
   ]
  },
  {
   "cell_type": "code",
   "execution_count": null,
   "id": "2c01a40c",
   "metadata": {},
   "outputs": [],
   "source": [
    "# Creating a dictionary with frequency of each genre in rotten tomatoes top 100\n",
    "genre_freq={}\n",
    "for word in rg:\n",
    "    if word in genre_freq:\n",
    "        genre_freq[word]+=1\n",
    "    else:\n",
    "        genre_freq[word]=1\n",
    "print(genre_freq)"
   ]
  },
  {
   "cell_type": "code",
   "execution_count": null,
   "id": "69519fac",
   "metadata": {},
   "outputs": [],
   "source": [
    "# Here we have a dataframe to visualize genres\n",
    "\n",
    "data_items = genre_freq.items()\n",
    "data_list = list(data_items)\n",
    "\n",
    "rottentotomatoes_genres = pd.DataFrame(data_list, columns = ['Genre', 'Popularity'])\n",
    "rottentotomatoes_genres"
   ]
  },
  {
   "cell_type": "code",
   "execution_count": null,
   "id": "a772199e-4272-4916-998d-addbeb6c637b",
   "metadata": {},
   "outputs": [],
   "source": [
    "# Our goal to see top 3 genres what critics choose\n",
    "\n",
    "rottentotomatoes_genres = rottentotomatoes_genres.sort_values(by=['Popularity'], ascending=False)\n",
    "rottentotomatoes_genres = rottentotomatoes_genres.head(3)\n",
    "rottentotomatoes_genres"
   ]
  },
  {
   "cell_type": "code",
   "execution_count": null,
   "id": "42d49c6f-52be-433e-9a73-67114d8c01fb",
   "metadata": {},
   "outputs": [],
   "source": [
    "# Moving column Genre as an index for better vizualization on chart\n",
    "\n",
    "rottentotomatoes_genres = rottentotomatoes_genres.set_index('Genre')"
   ]
  },
  {
   "cell_type": "code",
   "execution_count": null,
   "id": "cc35a03e-9387-4e70-a072-3299b94c6e92",
   "metadata": {},
   "outputs": [],
   "source": [
    "# Chart of Top 3 genres on Rotten Tomatoes\n",
    "\n",
    "rottentotomatoes_genres.plot(kind='bar')\n",
    "plt.title('Top 3 genres on Rotten Tomatoes', color = 'red', size = '20')\n",
    "plt.xticks(rotation=0)\n",
    "plt.ylabel('Popularity')\n",
    "plt.show()"
   ]
  }
 ],
 "metadata": {
  "kernelspec": {
   "display_name": "Python 3",
   "language": "python",
   "name": "python3"
  },
  "language_info": {
   "codemirror_mode": {
    "name": "ipython",
    "version": 3
   },
   "file_extension": ".py",
   "mimetype": "text/x-python",
   "name": "python",
   "nbconvert_exporter": "python",
   "pygments_lexer": "ipython3",
   "version": "3.8.8"
  }
 },
 "nbformat": 4,
 "nbformat_minor": 5
}
